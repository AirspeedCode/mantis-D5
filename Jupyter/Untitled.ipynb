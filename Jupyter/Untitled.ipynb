{
 "cells": [
  {
   "cell_type": "code",
   "execution_count": 5,
   "metadata": {},
   "outputs": [],
   "source": [
    "\n",
    "from PIL import Image\n",
    "import numpy as np\n",
    "\n",
    "\n",
    "# Load the image\n",
    "filename  = './composite_images/satellite.png'\n",
    "image = Image.open(filename)\n",
    "pix = np.array(image)\n"
   ]
  },
  {
   "cell_type": "code",
   "execution_count": 6,
   "metadata": {},
   "outputs": [
    {
     "data": {
      "text/plain": [
       "PIL.PngImagePlugin.PngImageFile"
      ]
     },
     "execution_count": 6,
     "metadata": {},
     "output_type": "execute_result"
    }
   ],
   "source": [
    "type(image)"
   ]
  },
  {
   "cell_type": "code",
   "execution_count": 7,
   "metadata": {},
   "outputs": [],
   "source": []
  },
  {
   "cell_type": "code",
   "execution_count": 8,
   "metadata": {},
   "outputs": [
    {
     "data": {
      "text/plain": [
       "array([[[147, 118,  78],\n",
       "        [147, 118,  78],\n",
       "        [147, 118,  78],\n",
       "        ...,\n",
       "        [ 60,  84,  58],\n",
       "        [ 73,  92,  67],\n",
       "        [ 84,  99,  74]],\n",
       "\n",
       "       [[147, 118,  78],\n",
       "        [147, 118,  78],\n",
       "        [147, 118,  78],\n",
       "        ...,\n",
       "        [ 40,  58,  40],\n",
       "        [ 60,  84,  58],\n",
       "        [ 84,  99,  74]],\n",
       "\n",
       "       [[147, 118,  78],\n",
       "        [147, 118,  78],\n",
       "        [147, 118,  78],\n",
       "        ...,\n",
       "        [ 20,  42,  23],\n",
       "        [ 23,  58,  36],\n",
       "        [ 54,  75,  53]],\n",
       "\n",
       "       ...,\n",
       "\n",
       "       [[ 11,  51,  21],\n",
       "        [  2,  42,  13],\n",
       "        [ 10,  37,  18],\n",
       "        ...,\n",
       "        [ 92, 114,  86],\n",
       "        [ 92, 114,  86],\n",
       "        [ 92, 114,  86]],\n",
       "\n",
       "       [[ 11,  43,  20],\n",
       "        [  0,  29,   6],\n",
       "        [  0,  25,   1],\n",
       "        ...,\n",
       "        [106, 115,  86],\n",
       "        [106, 115,  86],\n",
       "        [106, 115,  86]],\n",
       "\n",
       "       [[ 10,  37,  18],\n",
       "        [  0,  25,   1],\n",
       "        [  0,  14,   0],\n",
       "        ...,\n",
       "        [106, 115,  86],\n",
       "        [106, 115,  86],\n",
       "        [106, 115,  86]]], dtype=uint8)"
      ]
     },
     "execution_count": 8,
     "metadata": {},
     "output_type": "execute_result"
    }
   ],
   "source": [
    "pix"
   ]
  },
  {
   "cell_type": "code",
   "execution_count": null,
   "metadata": {},
   "outputs": [],
   "source": []
  }
 ],
 "metadata": {
  "kernelspec": {
   "display_name": "Python 3",
   "language": "python",
   "name": "python3"
  },
  "language_info": {
   "codemirror_mode": {
    "name": "ipython",
    "version": 3
   },
   "file_extension": ".py",
   "mimetype": "text/x-python",
   "name": "python",
   "nbconvert_exporter": "python",
   "pygments_lexer": "ipython3",
   "version": "3.6.9"
  }
 },
 "nbformat": 4,
 "nbformat_minor": 4
}
