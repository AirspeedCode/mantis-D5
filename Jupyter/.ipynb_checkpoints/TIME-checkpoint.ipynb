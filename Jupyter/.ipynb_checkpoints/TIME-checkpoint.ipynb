{
 "cells": [
  {
   "cell_type": "markdown",
   "metadata": {},
   "source": [
    "# TIME\n",
    "The time epoch for UNIX time is 1/1/1970, whereas the epoch for DJI flight logs is 0/1/1900 <br>\n",
    "\n",
    "Create a function to convert DJI time string into local epock time expressed as the time in seconds since the epoch as a floating point number <br>\n",
    "In the DJI CSV the time is stored as a text string in the following format:<br>\n",
    "\n",
    "2019/12/17 15:43:22.972\n",
    "\n",
    "We need to turn it into this format: <br>\n",
    "\n",
    "1614266060.8245356\n",
    "\n",
    "(as returned by time.time())\n",
    "\n"
   ]
  },
  {
   "cell_type": "code",
   "execution_count": 1,
   "metadata": {},
   "outputs": [],
   "source": [
    "import datetime"
   ]
  },
  {
   "cell_type": "code",
   "execution_count": 2,
   "metadata": {},
   "outputs": [],
   "source": [
    "def DJI_to_UTC(time_str):\n",
    "    year = int(time_str[:4])\n",
    "    month = int(time_str[5:7])\n",
    "    day = int(time_str[8:10])\n",
    "    hour = int(time_str[11:13])\n",
    "    minute = int(time_str[14:16])\n",
    "    seconds = float(time_str[17:])\n",
    "    microsecond = int(1e6 *  (seconds % 1))\n",
    "    second = int(seconds - (seconds % 1))\n",
    "    \n",
    "    #print(year, month, day, hour, minute, seconds, second, microsecond)\n",
    "    time_var = datetime.datetime(year, month, day, hour, minute, second, microsecond)\n",
    "    \n",
    "    epoch = datetime.datetime.utcfromtimestamp(0)\n",
    "    utc_time = (time_var - epoch).total_seconds()\n",
    "    return utc_time\n",
    "\n",
    "def UTC_time_now():\n",
    "    epoch = datetime.datetime.utcfromtimestamp(0)\n",
    "    A = datetime.datetime.now()\n",
    "    utc_time = (A - epoch).total_seconds()\n",
    "    return utc_time\n",
    "\n",
    "def TimestampToDT(TimeStamp):\n",
    "    #Returns:\n",
    "    #class datetime.datetime(year, month, day, hour=0, minute=0, second=0, microsecond=0, tzinfo=None, *, fold=0)\n",
    "    return datetime.datetime.utcfromtimestamp(TimeStamp)\n",
    "\n",
    "def DTToTimestamp(DT):\n",
    "    #Returns:\n",
    "    #UTC time in seconds since epoch for a given datetime object\n",
    "    epoch = datetime.datetime.utcfromtimestamp(0)\n",
    "    utc_time = (DT - epoch).total_seconds()\n",
    "    return utc_time\n"
   ]
  },
  {
   "cell_type": "code",
   "execution_count": 3,
   "metadata": {},
   "outputs": [
    {
     "name": "stdout",
     "output_type": "stream",
     "text": [
      "DJI String: 2019/12/17 15:43:22.972\n",
      "UTC Seconds: 1576597402.972\n",
      "DT Object: 2019-12-17 15:43:22.972000\n",
      "UTC seconds Now: 1615542799.267499\n",
      "DT Object Now: 2021-03-12 09:53:19.267499\n",
      "UTC seconds (derived): 1615542799.267499\n"
     ]
    }
   ],
   "source": [
    "time_str = \"2019/12/17 15:43:22.972\"\n",
    "UTC_sec = DJI_to_UTC(time_str)\n",
    "DT_obj = TimestampToDT(UTC_sec)\n",
    "UTC_now = UTC_time_now()\n",
    "DT_obj_now = TimestampToDT(UTC_now)\n",
    "UTC_now_check = DTToTimestamp(DT_obj_now)\n",
    "\n",
    "print(\"DJI String:\", time_str)\n",
    "print(\"UTC Seconds:\", UTC_sec)\n",
    "print(\"DT Object:\", DT_obj)\n",
    "print(\"UTC seconds Now:\", UTC_now)\n",
    "print(\"DT Object Now:\", DT_obj_now)\n",
    "print(\"UTC seconds (derived):\", UTC_now_check)\n"
   ]
  },
  {
   "cell_type": "code",
   "execution_count": 6,
   "metadata": {},
   "outputs": [
    {
     "name": "stdout",
     "output_type": "stream",
     "text": [
      "DJI String: 1970/01/01 00:00:00.000\n",
      "UTC Seconds: 0.0\n",
      "DT Object: 1970-01-01 00:00:00\n",
      "UTC seconds Now: 1615542901.723126\n",
      "DT Object Now: 2021-03-12 09:55:01.723126\n",
      "UTC seconds (derived): 1615542901.723126\n"
     ]
    }
   ],
   "source": [
    "time_str = \"1970/01/01 00:00:00.000\"\n",
    "UTC_sec = DJI_to_UTC(time_str)\n",
    "DT_obj = TimestampToDT(UTC_sec)\n",
    "UTC_now = UTC_time_now()\n",
    "DT_obj_now = TimestampToDT(UTC_now)\n",
    "UTC_now_check = DTToTimestamp(DT_obj_now)\n",
    "\n",
    "print(\"DJI String:\", time_str)\n",
    "print(\"UTC Seconds:\", UTC_sec)\n",
    "print(\"DT Object:\", DT_obj)\n",
    "print(\"UTC seconds Now:\", UTC_now)\n",
    "print(\"DT Object Now:\", DT_obj_now)\n",
    "print(\"UTC seconds (derived):\", UTC_now_check)\n"
   ]
  },
  {
   "cell_type": "code",
   "execution_count": null,
   "metadata": {},
   "outputs": [],
   "source": []
  }
 ],
 "metadata": {
  "kernelspec": {
   "display_name": "Python 3",
   "language": "python",
   "name": "python3"
  },
  "language_info": {
   "codemirror_mode": {
    "name": "ipython",
    "version": 3
   },
   "file_extension": ".py",
   "mimetype": "text/x-python",
   "name": "python",
   "nbconvert_exporter": "python",
   "pygments_lexer": "ipython3",
   "version": "3.6.9"
  }
 },
 "nbformat": 4,
 "nbformat_minor": 4
}
