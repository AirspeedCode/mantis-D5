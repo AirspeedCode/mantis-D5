{
 "cells": [
  {
   "cell_type": "markdown",
   "metadata": {},
   "source": [
    "# LAT/LONG TO X/Y"
   ]
  },
  {
   "cell_type": "code",
   "execution_count": null,
   "metadata": {},
   "outputs": [],
   "source": [
    "from math import radians, cos, sin, asin, sqrt"
   ]
  },
  {
   "cell_type": "code",
   "execution_count": 20,
   "metadata": {},
   "outputs": [],
   "source": [
    "\n",
    "\n",
    "def haversine(lon1, lat1, lon2, lat2):\n",
    "        \"\"\"\n",
    "        Calculate the great circle distance between two points \n",
    "        on the earth (specified in decimal degrees)\n",
    "        \"\"\"\n",
    "        # convert decimal degrees to radians \n",
    "        lon1, lat1, lon2, lat2 = map(radians, [lon1, lat1, lon2, lat2])\n",
    "\n",
    "        # haversine formula \n",
    "        dlon = lon2 - lon1 \n",
    "        dlat = lat2 - lat1 \n",
    "        a = sin(dlat/2)**2 + cos(lat1) * cos(lat2) * sin(dlon/2)**2\n",
    "        c = 2 * asin(sqrt(a)) \n",
    "        r = 6371000 # Radius of earth in meters. \n",
    "        return c * r    \n",
    "\n",
    "class map_point(object):\n",
    "    def __init__(self, lon, lat):\n",
    "        print(\"Lat, Lon:\", lat, lon)\n",
    "        \n",
    "        self.X0_lon = -0.472412109375 \n",
    "        self.Y0_lat = 51.984880139916626\n",
    "        \n",
    "        self.X = 0    # X Position on the image in (m) relative to bottom left corner (0,0)\n",
    "        self.Y = 0    # Y Position on the image in (m) relative to bottom left corner (0,0)\n",
    "        self.degreesToXYPos(lat,lon)\n",
    "        \n",
    "    def degreesToXYPos(self, lat, lon):\n",
    "        print(\"Lat, Lon:\", lat, lon)\n",
    "        \n",
    "        print(self.X0_lon, self.Y0_lat, lon, self.Y0_lat )\n",
    "        \n",
    "        self.X = haversine( lon1=self.X0_lon, lat1=self.Y0_lat, lon2=lon, lat2=self.Y0_lat )\n",
    "        self.Y = haversine( lon1=self.X0_lon, lat1=self.Y0_lat, lon2=self.X0_lon, lat2=lat )\n",
    "        "
   ]
  },
  {
   "cell_type": "code",
   "execution_count": 21,
   "metadata": {},
   "outputs": [
    {
     "name": "stdout",
     "output_type": "stream",
     "text": [
      "Lat, Lon: 51.999779 -0.45521\n",
      "Lat, Lon: 51.999779 -0.45521\n",
      "-0.472412109375 51.984880139916626 -0.45521 51.984880139916626\n"
     ]
    }
   ],
   "source": [
    "mote_lat = 51.999779\n",
    "mote_lon =  -0.455210\n",
    "\n",
    "mote = map_point(lon = mote_lon, \n",
    "                 lat = mote_lat)\n",
    "\n",
    "\n"
   ]
  },
  {
   "cell_type": "code",
   "execution_count": 22,
   "metadata": {},
   "outputs": [
    {
     "data": {
      "text/plain": [
       "1656.6776540575468"
      ]
     },
     "execution_count": 22,
     "metadata": {},
     "output_type": "execute_result"
    }
   ],
   "source": [
    "mote.Y"
   ]
  },
  {
   "cell_type": "code",
   "execution_count": 23,
   "metadata": {},
   "outputs": [
    {
     "data": {
      "text/plain": [
       "1178.0271638569097"
      ]
     },
     "execution_count": 23,
     "metadata": {},
     "output_type": "execute_result"
    }
   ],
   "source": [
    "mote.X"
   ]
  },
  {
   "cell_type": "code",
   "execution_count": null,
   "metadata": {},
   "outputs": [],
   "source": []
  }
 ],
 "metadata": {
  "kernelspec": {
   "display_name": "Python 3",
   "language": "python",
   "name": "python3"
  },
  "language_info": {
   "codemirror_mode": {
    "name": "ipython",
    "version": 3
   },
   "file_extension": ".py",
   "mimetype": "text/x-python",
   "name": "python",
   "nbconvert_exporter": "python",
   "pygments_lexer": "ipython3",
   "version": "3.6.9"
  }
 },
 "nbformat": 4,
 "nbformat_minor": 4
}
