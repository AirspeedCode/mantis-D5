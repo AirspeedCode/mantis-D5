{
 "cells": [
  {
   "cell_type": "markdown",
   "metadata": {},
   "source": [
    "# PULL TILES\n",
    "Reference: <br>\n",
    "https://towardsdatascience.com/creating-high-resolution-satellite-images-with-mapbox-and-python-750b3ac83dd7\n",
    "<br>Mapbox access token: <br>\n",
    "pk.eyJ1IjoiYnc0NTkyMDUiLCJhIjoiY2tsaHkzbm40MDN3bTJ4cGw5OXR1YTcwNCJ9.qlj5zfImuRW1Q2fUWH6oxA\n",
    "<br>\n",
    "PNG Tile: <br>\n",
    "https://api.mapbox.com/v4/mapbox.satellite/15/16342/10823@2x.png?access_token=pk.eyJ1IjoiYnc0NTkyMDUiLCJhIjoiY2tsaHkzbm40MDN3bTJ4cGw5OXR1YTcwNCJ9.qlj5zfImuRW1Q2fUWH6oxA\n",
    "<br>Vector tile:<br>\n",
    "https://api.mapbox.com/v4/mapbox.mapbox-streets-v8/15/16342/10823@2x.png?access_token=pk.eyJ1IjoiYnc0NTkyMDUiLCJhIjoiY2tsaHkzbm40MDN3bTJ4cGw5OXR1YTcwNCJ9.qlj5zfImuRW1Q2fUWH6oxA\n",
    "<br>\n",
    "\n"
   ]
  },
  {
   "cell_type": "code",
   "execution_count": 1,
   "metadata": {},
   "outputs": [],
   "source": [
    "import mercantile\n",
    "import requests # The requests package allows use to call URLS\n",
    "import shutil   # shutil will be used to copy the image to the local# Loop over the tile ranges"
   ]
  },
  {
   "cell_type": "code",
   "execution_count": 2,
   "metadata": {},
   "outputs": [],
   "source": [
    "lat_lng = [51.999635, -0.455226] #location of mote\n",
    "delta = 0.009 # scan range in degrees - about 1 km in all directions\n",
    "\n",
    "tl = [lat_lng[0]+delta, lat_lng[1]-delta] # top left of image\n",
    "br = [lat_lng[0]-delta, lat_lng[1]+delta] # bottom right of image\n",
    "z = 15 # set the resolution (max at 15)\n",
    "\n",
    "tl_tile = mercantile.tile(tl[1],tl[0],z) # returns a mercantile Tile Class\n",
    "br_tile = mercantile.tile(br[1],br[0],z)"
   ]
  },
  {
   "cell_type": "code",
   "execution_count": 3,
   "metadata": {},
   "outputs": [
    {
     "name": "stdout",
     "output_type": "stream",
     "text": [
      "Top Left Corner      : 52.01193653675362 -0.472412109375 (Top Left of tile 0,0)\n",
      "X Resolution (deg/px): 2.1457672119140625e-05\n",
      "Y Resolution (deg/px): 1.3208137105341633e-05\n",
      "X Resolution (m/px): 2.385984277250835\n",
      "Y Resolution (m/px): 1.468677836539737\n"
     ]
    }
   ],
   "source": [
    "Tile_X_Size = 512 # in Pixels\n",
    "Tile_Y_Size = 512 # in Pixels\n",
    "PI = 3.141592653589793\n",
    "\n",
    "Tile_width_deg = mercantile.ul( mercantile.Tile(x=tl_tile.x+1, y=tl_tile.y+1, z = 15) ).lng - mercantile.ul( mercantile.Tile(x=tl_tile.x, y=tl_tile.y, z = 15) ).lng\n",
    "Tile_height_deg = mercantile.ul( mercantile.Tile(x=tl_tile.x, y=tl_tile.y, z = 15) ).lat - mercantile.ul( mercantile.Tile(x=tl_tile.x+1, y=tl_tile.y+1, z = 15) ).lat\n",
    "X_res_deg = Tile_width_deg / Tile_X_Size # Degrees per pixel in the X axis\n",
    "Y_res_deg = Tile_height_deg / Tile_Y_Size # Degrees per pixel in the Y axis\n",
    "\n",
    "X_res_m = (2*PI*6371e3*X_res_deg)/360\n",
    "Y_res_m = (2*PI*6371e3*Y_res_deg)/360\n",
    "\n",
    "tl_corner =  mercantile.ul(tl_tile)\n",
    "\n",
    "print(\"Top Left Corner      :\",tl_corner.lat, tl_corner.lng, \"(Top Left of tile 0,0)\")\n",
    "print(\"X Resolution (deg/px):\",X_res_deg)\n",
    "print(\"Y Resolution (deg/px):\",Y_res_deg)\n",
    "print(\"X Resolution (m/px):\",X_res_m)\n",
    "print(\"Y Resolution (m/px):\",Y_res_m)"
   ]
  },
  {
   "cell_type": "code",
   "execution_count": 4,
   "metadata": {},
   "outputs": [
    {
     "name": "stdout",
     "output_type": "stream",
     "text": [
      "Downloading Map Tiles\n",
      "X Tile Range: [16341, 16343]\n",
      "Y Tile Range: [10822, 10825]\n",
      "Zoom: 15 X: 16341 Y: 10822\n",
      "Zoom: 15 X: 16341 Y: 10823\n",
      "Zoom: 15 X: 16341 Y: 10824\n",
      "Zoom: 15 X: 16341 Y: 10825\n",
      "Zoom: 15 X: 16342 Y: 10822\n",
      "Zoom: 15 X: 16342 Y: 10823\n",
      "Zoom: 15 X: 16342 Y: 10824\n",
      "Zoom: 15 X: 16342 Y: 10825\n",
      "Zoom: 15 X: 16343 Y: 10822\n",
      "Zoom: 15 X: 16343 Y: 10823\n",
      "Zoom: 15 X: 16343 Y: 10824\n",
      "Zoom: 15 X: 16343 Y: 10825\n"
     ]
    }
   ],
   "source": [
    "print(\"Downloading Map Tiles\")\n",
    "\n",
    "x_tile_range =[tl_tile.x,br_tile.x]\n",
    "print(\"X Tile Range:\",x_tile_range)\n",
    "y_tile_range = [tl_tile.y,br_tile.y]\n",
    "print(\"Y Tile Range:\",y_tile_range)\n",
    "\n",
    "for i,x in enumerate(range(x_tile_range[0],x_tile_range[1]+1)):\n",
    "    for j,y in enumerate(range(y_tile_range[0],y_tile_range[1]+1)):   # Call the URL to get the image back\n",
    "        print(\"Zoom:\",z,\"X:\",x,\"Y:\",y)\n",
    "        \n",
    "        # Get the satellite image tile\n",
    "        r =requests.get('https://api.mapbox.com/v4/mapbox.satellite/'+ str(z)+'/'+str(x)+'/'+str(y)+'@2x.png256?access_token=pk.eyJ1IjoiYnc0NTkyMDUiLCJhIjoiY2tsaHkzbm40MDN3bTJ4cGw5OXR1YTcwNCJ9.qlj5zfImuRW1Q2fUWH6oxA', stream=True)\n",
    "        with open('./satellite_images/' + str(i) + '.' + str(j) + '.png','wb') as f:\n",
    "            r.raw.decode_content = True\n",
    "            shutil.copyfileobj(r.raw, f)\n",
    "        \n",
    "        # Get the vector image tile\n",
    "        r =requests.get('https://api.mapbox.com/v4/mapbox.mapbox-streets-v8/'+ str(z)+'/'+str(x)+'/'+str(y)+'@2x.png256?access_token=pk.eyJ1IjoiYnc0NTkyMDUiLCJhIjoiY2tsaHkzbm40MDN3bTJ4cGw5OXR1YTcwNCJ9.qlj5zfImuRW1Q2fUWH6oxA', stream=True)\n",
    "        with open('./vector_images/' + str(i) + '.' + str(j) + '.png','wb') as f:\n",
    "            r.raw.decode_content = True\n",
    "            shutil.copyfileobj(r.raw, f)\n",
    "            "
   ]
  },
  {
   "cell_type": "code",
   "execution_count": null,
   "metadata": {},
   "outputs": [],
   "source": []
  },
  {
   "cell_type": "code",
   "execution_count": null,
   "metadata": {},
   "outputs": [],
   "source": []
  },
  {
   "cell_type": "code",
   "execution_count": null,
   "metadata": {},
   "outputs": [],
   "source": []
  }
 ],
 "metadata": {
  "kernelspec": {
   "display_name": "Python 3",
   "language": "python",
   "name": "python3"
  },
  "language_info": {
   "codemirror_mode": {
    "name": "ipython",
    "version": 3
   },
   "file_extension": ".py",
   "mimetype": "text/x-python",
   "name": "python",
   "nbconvert_exporter": "python",
   "pygments_lexer": "ipython3",
   "version": "3.6.9"
  }
 },
 "nbformat": 4,
 "nbformat_minor": 4
}
