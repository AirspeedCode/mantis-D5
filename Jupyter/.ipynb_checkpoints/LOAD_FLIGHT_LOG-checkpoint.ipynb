{
 "cells": [
  {
   "cell_type": "code",
   "execution_count": 1,
   "metadata": {},
   "outputs": [],
   "source": [
    "import datetime\n",
    "import pandas as pd "
   ]
  },
  {
   "cell_type": "code",
   "execution_count": 2,
   "metadata": {},
   "outputs": [],
   "source": [
    "def DJI_to_UTC(time_str):\n",
    "    year = int(time_str[:4])\n",
    "    month = int(time_str[5:7])\n",
    "    day = int(time_str[8:10])\n",
    "    hour = int(time_str[11:13])\n",
    "    minute = int(time_str[14:16])\n",
    "    seconds = float(time_str[17:])\n",
    "    microsecond = int(1e6 *  (seconds % 1))\n",
    "    second = int(seconds - (seconds % 1))\n",
    "    \n",
    "    #print(year, month, day, hour, minute, seconds, second, microsecond)\n",
    "    time_var = datetime.datetime(year, month, day, hour, minute, second, microsecond)\n",
    "    \n",
    "    epoch = datetime.datetime.utcfromtimestamp(0)\n",
    "    utc_time = (time_var - epoch).total_seconds()\n",
    "    return utc_time\n",
    "\n",
    "def LoadFlightLog(filename):\n",
    "    #Load the data as a pandas dataframe\n",
    "    df = pd.read_csv('DJIFlightRecord_2019-12-17_[15-43-22]-TxtLogToCsv.csv', sep=',', error_bad_lines=False, index_col=False, dtype='unicode')\n",
    "\n",
    "    # remove the unnecessary columns from the dataframe\n",
    "    header_list = list(df[:0])\n",
    "    required_columns = ['CUSTOM.updateTime', 'OSD.flyTime [s]',  'OSD.latitude', 'OSD.longitude', 'OSD.height [m]', 'OSD.groundOrSky']\n",
    "    for header in header_list:\n",
    "        if(not(header in required_columns)):\n",
    "            del df[header]\n",
    "\n",
    "    # Add a UTC timestamp to the dataframe\n",
    "    UTC_list = []\n",
    "    for DJI_stamp in list(df['CUSTOM.updateTime']):\n",
    "        #print(DJI_stamp)\n",
    "        UTC_seconds = DJI_to_UTC(DJI_stamp)\n",
    "        UTC_list.append(UTC_seconds)\n",
    "\n",
    "    df['UTC_Seconds'] = UTC_list\n",
    "\n",
    "    #overwrite the datatypes of dataframe\n",
    "    data_types = df.astype({\n",
    "                'CUSTOM.updateTime': 'string',\n",
    "                'OSD.latitude': 'float64',\n",
    "                'OSD.longitude': 'float64',\n",
    "                'OSD.height [m]': 'float64',\n",
    "                'OSD.groundOrSky': 'string',\n",
    "                'OSD.flyTime [s]': 'float64',\n",
    "                'UTC_Seconds': 'float64'\n",
    "                }).dtypes\n",
    "\n",
    "    df = df.astype(data_types)\n",
    "    return df\n",
    "\n",
    "def GetDroneStatus(df, UTC):\n",
    "    drone_status = df[df['UTC_Seconds'] <= UTC].iloc[-1]\n",
    "    lat = drone_status['OSD.latitude']\n",
    "    lon = drone_status['OSD.longitude']\n",
    "    height = drone_status['OSD.height [m]']\n",
    "    groundOrSky = drone_status['OSD.groundOrSky']\n",
    "    Flytime = drone_status['OSD.flyTime [s]']\n",
    "    Timestamp = drone_status['UTC_Seconds']\n",
    "    return Timestamp, Flytime, lat, lon, height, groundOrSky\n",
    "\n",
    "def GetStartUTC(df):\n",
    "    return df.iloc[0]['UTC_Seconds']\n",
    "\n",
    "def GetEndUTC(df):\n",
    "    return df.iloc[-1]['UTC_Seconds']\n"
   ]
  },
  {
   "cell_type": "code",
   "execution_count": 3,
   "metadata": {},
   "outputs": [
    {
     "data": {
      "text/html": [
       "<div>\n",
       "<style scoped>\n",
       "    .dataframe tbody tr th:only-of-type {\n",
       "        vertical-align: middle;\n",
       "    }\n",
       "\n",
       "    .dataframe tbody tr th {\n",
       "        vertical-align: top;\n",
       "    }\n",
       "\n",
       "    .dataframe thead th {\n",
       "        text-align: right;\n",
       "    }\n",
       "</style>\n",
       "<table border=\"1\" class=\"dataframe\">\n",
       "  <thead>\n",
       "    <tr style=\"text-align: right;\">\n",
       "      <th></th>\n",
       "      <th>CUSTOM.updateTime</th>\n",
       "      <th>OSD.latitude</th>\n",
       "      <th>OSD.longitude</th>\n",
       "      <th>OSD.height [m]</th>\n",
       "      <th>OSD.groundOrSky</th>\n",
       "      <th>OSD.flyTime [s]</th>\n",
       "      <th>UTC_Seconds</th>\n",
       "    </tr>\n",
       "  </thead>\n",
       "  <tbody>\n",
       "    <tr>\n",
       "      <th>0</th>\n",
       "      <td>2019/12/17 15:43:22.659</td>\n",
       "      <td>51.999669</td>\n",
       "      <td>-0.455334</td>\n",
       "      <td>0.000000</td>\n",
       "      <td>Sky</td>\n",
       "      <td>0.000000</td>\n",
       "      <td>1576597402.658999</td>\n",
       "    </tr>\n",
       "    <tr>\n",
       "      <th>1</th>\n",
       "      <td>2019/12/17 15:43:22.764</td>\n",
       "      <td>51.999669</td>\n",
       "      <td>-0.455334</td>\n",
       "      <td>0.000000</td>\n",
       "      <td>Ground</td>\n",
       "      <td>0.100000</td>\n",
       "      <td>1576597402.763999</td>\n",
       "    </tr>\n",
       "    <tr>\n",
       "      <th>2</th>\n",
       "      <td>2019/12/17 15:43:22.867</td>\n",
       "      <td>51.999669</td>\n",
       "      <td>-0.455334</td>\n",
       "      <td>0.000000</td>\n",
       "      <td>Ground</td>\n",
       "      <td>0.200000</td>\n",
       "      <td>1576597402.867000</td>\n",
       "    </tr>\n",
       "    <tr>\n",
       "      <th>3</th>\n",
       "      <td>2019/12/17 15:43:22.972</td>\n",
       "      <td>51.999669</td>\n",
       "      <td>-0.455334</td>\n",
       "      <td>0.000000</td>\n",
       "      <td>Ground</td>\n",
       "      <td>0.300000</td>\n",
       "      <td>1576597402.972000</td>\n",
       "    </tr>\n",
       "    <tr>\n",
       "      <th>4</th>\n",
       "      <td>2019/12/17 15:43:23.076</td>\n",
       "      <td>51.999669</td>\n",
       "      <td>-0.455334</td>\n",
       "      <td>0.000000</td>\n",
       "      <td>Ground</td>\n",
       "      <td>0.400000</td>\n",
       "      <td>1576597403.076000</td>\n",
       "    </tr>\n",
       "  </tbody>\n",
       "</table>\n",
       "</div>"
      ],
      "text/plain": [
       "         CUSTOM.updateTime  OSD.latitude  OSD.longitude  OSD.height [m]  \\\n",
       "0  2019/12/17 15:43:22.659     51.999669      -0.455334        0.000000   \n",
       "1  2019/12/17 15:43:22.764     51.999669      -0.455334        0.000000   \n",
       "2  2019/12/17 15:43:22.867     51.999669      -0.455334        0.000000   \n",
       "3  2019/12/17 15:43:22.972     51.999669      -0.455334        0.000000   \n",
       "4  2019/12/17 15:43:23.076     51.999669      -0.455334        0.000000   \n",
       "\n",
       "  OSD.groundOrSky  OSD.flyTime [s]       UTC_Seconds  \n",
       "0             Sky         0.000000 1576597402.658999  \n",
       "1          Ground         0.100000 1576597402.763999  \n",
       "2          Ground         0.200000 1576597402.867000  \n",
       "3          Ground         0.300000 1576597402.972000  \n",
       "4          Ground         0.400000 1576597403.076000  "
      ]
     },
     "execution_count": 3,
     "metadata": {},
     "output_type": "execute_result"
    }
   ],
   "source": [
    "filename = 'DJIFlightRecord_2019-12-17_[15-43-22]-TxtLogToCsv.csv'\n",
    "data = LoadFlightLog(filename)\n",
    "pd.options.display.float_format = '{:.6f}'.format\n",
    "data.head()"
   ]
  },
  {
   "cell_type": "code",
   "execution_count": 4,
   "metadata": {},
   "outputs": [
    {
     "data": {
      "text/plain": [
       "(1576597403.076, 0.4, 51.999669, -0.455334, 0.0, 'Ground')"
      ]
     },
     "execution_count": 4,
     "metadata": {},
     "output_type": "execute_result"
    }
   ],
   "source": [
    "current_UTC = 1576597403.076000\n",
    "GetDroneStatus(df = data, UTC = current_UTC)"
   ]
  },
  {
   "cell_type": "code",
   "execution_count": 5,
   "metadata": {},
   "outputs": [
    {
     "name": "stdout",
     "output_type": "stream",
     "text": [
      "Start UTC [s]: 1576597402.658999\n",
      "END UTC [s]: 1576598306.594\n",
      "Duration [s]: 903.9350011348724\n"
     ]
    }
   ],
   "source": [
    "start = GetStartUTC(data)\n",
    "end = GetEndUTC(data)\n",
    "print(\"Start UTC [s]:\", start)\n",
    "print(\"END UTC [s]:\", end)\n",
    "print(\"Duration [s]:\", end-start)"
   ]
  },
  {
   "cell_type": "code",
   "execution_count": 6,
   "metadata": {},
   "outputs": [
    {
     "data": {
      "text/plain": [
       "(8380, 7)"
      ]
     },
     "execution_count": 6,
     "metadata": {},
     "output_type": "execute_result"
    }
   ],
   "source": [
    "data.shape"
   ]
  },
  {
   "cell_type": "code",
   "execution_count": null,
   "metadata": {},
   "outputs": [],
   "source": []
  },
  {
   "cell_type": "code",
   "execution_count": null,
   "metadata": {},
   "outputs": [],
   "source": []
  }
 ],
 "metadata": {
  "kernelspec": {
   "display_name": "Python 3",
   "language": "python",
   "name": "python3"
  },
  "language_info": {
   "codemirror_mode": {
    "name": "ipython",
    "version": 3
   },
   "file_extension": ".py",
   "mimetype": "text/x-python",
   "name": "python",
   "nbconvert_exporter": "python",
   "pygments_lexer": "ipython3",
   "version": "3.6.9"
  }
 },
 "nbformat": 4,
 "nbformat_minor": 4
}
