{
 "cells": [
  {
   "cell_type": "code",
   "execution_count": 1,
   "metadata": {},
   "outputs": [],
   "source": [
    "# Import the image, math and os libraries\n",
    "import PIL\n",
    "from PIL import Image\n",
    "import math\n",
    "from math import radians, cos, sin, asin, sqrt\n",
    "from os import listdir\n",
    "from os.path import isfile, join# Loop over the elevation and satellite image set\n"
   ]
  },
  {
   "cell_type": "code",
   "execution_count": 2,
   "metadata": {},
   "outputs": [
    {
     "name": "stdout",
     "output_type": "stream",
     "text": [
      "vector\n",
      "Filename: ./composite_images/vector.png\n",
      "Image Size: (1536, 2048)\n",
      "\n",
      "\n",
      "satellite\n",
      "Filename: ./composite_images/satellite.png\n",
      "Image Size: (1536, 2048)\n",
      "\n",
      "\n"
     ]
    }
   ],
   "source": [
    "# Import the image, math and os libraries\n",
    "\n",
    "x_tile_range =[0,3]\n",
    "y_tile_range = [0,4]\n",
    "\n",
    "\n",
    "for img_name in ['vector','satellite']:   # Make a list of the image names \n",
    "#for img_name in ['satellite']:   # Make a list of the image names \n",
    "    print(img_name)\n",
    "    \n",
    "    image_files = ['./' + img_name + '_images/' + f for f in listdir('./' + img_name + '_images/')]    # Open the image set using pillow\n",
    "    \n",
    "\n",
    "    \n",
    "    images = [PIL.Image.open(x) for x in image_files]   # Calculate the number of image tiles in each direction\n",
    "\n",
    "    \n",
    "    edge_length_x = x_tile_range[1] - x_tile_range[0]\n",
    "    edge_length_y = y_tile_range[1] - y_tile_range[0]\n",
    "    \n",
    "    edge_length_x = max(1,edge_length_x)\n",
    "    edge_length_y = max(1,edge_length_y)   # Find the final composed image dimensions  \n",
    "    \n",
    "    \n",
    "    \n",
    "    width, height = images[0].size\n",
    "    \n",
    "    total_width = width*edge_length_x\n",
    "    \n",
    "    total_height = height*edge_length_y   # Create a new blank image we will fill in\n",
    "\n",
    "    composite = PIL.Image.new('RGB', (total_width, total_height))   # Loop over the x and y ranges\n",
    "\n",
    "    y_offset = 0\n",
    "\n",
    "    for i in range(0,edge_length_x):\n",
    "        x_offset = 0\n",
    "\n",
    "        for j in range(0,edge_length_y):  \n",
    "\n",
    "            \n",
    "            # Open up the image file and paste it into the composed image at the given offset position\n",
    "            \n",
    "            tmp_img = PIL.Image.open('./' + img_name + '_images/' + str(i) + '.' + str(j) + '.png')\n",
    "            \n",
    "            composite.paste(tmp_img, (y_offset,x_offset))\n",
    "            \n",
    "            x_offset += width # Update the width\n",
    "        \n",
    "        y_offset += height # Update the height\n",
    "            \n",
    "    # Save the final image\n",
    "    filename = './composite_images/'+img_name+'.png'\n",
    "    print(\"Filename:\", filename)\n",
    "    composite.save('./composite_images/'+img_name+'.png')\n",
    "    print(\"Image Size:\", PIL.Image.open(filename).size)\n",
    "    print(\"\\n\")"
   ]
  },
  {
   "cell_type": "code",
   "execution_count": null,
   "metadata": {},
   "outputs": [],
   "source": []
  },
  {
   "cell_type": "code",
   "execution_count": 3,
   "metadata": {},
   "outputs": [
    {
     "name": "stdout",
     "output_type": "stream",
     "text": [
      "Image Size: (1536, 2048)\n"
     ]
    }
   ],
   "source": [
    "print(\"Image Size:\", PIL.Image.open(filename).size)"
   ]
  },
  {
   "cell_type": "code",
   "execution_count": 4,
   "metadata": {},
   "outputs": [],
   "source": [
    "import mercantile\n",
    "\n",
    "lat_lng = [51.999635, -0.455226] #location of mote\n",
    "delta = 0.009 # scan range in degrees - about 1 km in all directions\n",
    "\n",
    "tl = [lat_lng[0]+delta, lat_lng[1]-delta] # top left of image\n",
    "br = [lat_lng[0]-delta, lat_lng[1]+delta] # bottom right of image\n",
    "z = 15 # set the resolution (max at 15)\n",
    "\n",
    "tl_tile = mercantile.tile(tl[1],tl[0],z) # returns a mercantile Tile Class\n",
    "br_tile = mercantile.tile(br[1],br[0],z)\n",
    "\n",
    "tl_coords = mercantile.ul(tl_tile)\n",
    "br_coords = mercantile.ul( mercantile.Tile(br_tile.x+1,br_tile.y+1,z) )"
   ]
  },
  {
   "cell_type": "code",
   "execution_count": 5,
   "metadata": {},
   "outputs": [
    {
     "name": "stdout",
     "output_type": "stream",
     "text": [
      "Image top left coordinates: -0.472412109375 52.01193653675362\n",
      "Image bottom right coordinates: -0.439453125 51.984880139916626\n"
     ]
    }
   ],
   "source": [
    "print(\"Image top left coordinates:\", tl_coords.lng, tl_coords.lat)\n",
    "print(\"Image bottom right coordinates:\", br_coords.lng, br_coords.lat)"
   ]
  },
  {
   "cell_type": "code",
   "execution_count": 6,
   "metadata": {},
   "outputs": [],
   "source": [
    "TL = (tl_coords.lng, tl_coords.lat)\n",
    "TR = (br_coords.lng, tl_coords.lat)\n",
    "BR = (br_coords.lng, br_coords.lat)\n"
   ]
  },
  {
   "cell_type": "code",
   "execution_count": 7,
   "metadata": {},
   "outputs": [],
   "source": [
    "\n",
    "def haversine(lon1, lat1, lon2, lat2):\n",
    "    \"\"\"\n",
    "    Calculate the great circle distance between two points \n",
    "    on the earth (specified in decimal degrees)\n",
    "    \"\"\"\n",
    "    # convert decimal degrees to radians \n",
    "    lon1, lat1, lon2, lat2 = map(radians, [lon1, lat1, lon2, lat2])\n",
    "\n",
    "    # haversine formula \n",
    "    dlon = lon2 - lon1 \n",
    "    dlat = lat2 - lat1 \n",
    "    a = sin(dlat/2)**2 + cos(lat1) * cos(lat2) * sin(dlon/2)**2\n",
    "    c = 2 * asin(sqrt(a)) \n",
    "    r = 6371 * 1000 # Radius of earth in meters. Use 3956 for miles\n",
    "    return c * r\n"
   ]
  },
  {
   "cell_type": "code",
   "execution_count": 9,
   "metadata": {},
   "outputs": [
    {
     "name": "stdout",
     "output_type": "stream",
     "text": [
      "Image width (px): 1536\n",
      "Image height (px): 2048\n",
      "Image width (m): 2255.7186879104743\n",
      "Image heiht (m): 3008.534061556077\n",
      "X scaling factor (m/px): 1.4685668541083816\n",
      "Y scaling factor (m/px): 1.4690107722441783\n",
      "Image width (deg): 0.032958984375\n",
      "Image height (deg): 0.02705639683699701\n",
      "X scaling factor (deg/px): 2.1457672119140625e-05\n",
      "Y scaling factor (deg/px): 1.3211131268064946e-05\n"
     ]
    }
   ],
   "source": [
    "width = haversine(TL[0],TL[1],TR[0],TR[1])\n",
    "height = haversine(TR[0],TR[1],BR[0],BR[1])\n",
    "\n",
    "width_px, height_px = PIL.Image.open(filename).size\n",
    "x_scale = width / width_px\n",
    "y_scale = height / height_px\n",
    "\n",
    "width_deg = TR[0] - TL[0]\n",
    "height_deg = TR[1] - BR[1]\n",
    "\n",
    "x_scale_deg = width_deg / width_px\n",
    "y_scale_deg = height_deg / height_px\n",
    "\n",
    "print(\"Image width (px):\", width_px)\n",
    "print(\"Image height (px):\", height_px)\n",
    "print(\"Image width (m):\",width)\n",
    "print(\"Image heiht (m):\",height)\n",
    "print(\"X scaling factor (m/px):\", x_scale)\n",
    "print(\"Y scaling factor (m/px):\", y_scale)\n",
    "print(\"Image width (deg):\",width_deg)\n",
    "print(\"Image height (deg):\",height_deg)\n",
    "print(\"X scaling factor (deg/px):\", x_scale_deg)\n",
    "print(\"Y scaling factor (deg/px):\", y_scale_deg)\n"
   ]
  },
  {
   "cell_type": "code",
   "execution_count": null,
   "metadata": {},
   "outputs": [],
   "source": []
  }
 ],
 "metadata": {
  "kernelspec": {
   "display_name": "Python 3",
   "language": "python",
   "name": "python3"
  },
  "language_info": {
   "codemirror_mode": {
    "name": "ipython",
    "version": 3
   },
   "file_extension": ".py",
   "mimetype": "text/x-python",
   "name": "python",
   "nbconvert_exporter": "python",
   "pygments_lexer": "ipython3",
   "version": "3.6.9"
  }
 },
 "nbformat": 4,
 "nbformat_minor": 4
}
