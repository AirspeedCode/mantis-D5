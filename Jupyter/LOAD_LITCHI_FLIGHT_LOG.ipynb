{
 "cells": [
  {
   "cell_type": "code",
   "execution_count": 1,
   "metadata": {},
   "outputs": [],
   "source": [
    "import datetime\n",
    "import pandas as pd "
   ]
  },
  {
   "cell_type": "code",
   "execution_count": 2,
   "metadata": {},
   "outputs": [],
   "source": [
    "def DJI_to_UTC(time_str):\n",
    "    year = int(time_str[:4])\n",
    "    month = int(time_str[5:7])\n",
    "    day = int(time_str[8:10])\n",
    "    hour = int(time_str[11:13])\n",
    "    minute = int(time_str[14:16])\n",
    "    seconds = float(time_str[17:])\n",
    "    microsecond = int(1e6 *  (seconds % 1))\n",
    "    second = int(seconds - (seconds % 1))\n",
    "    \n",
    "    #print(year, month, day, hour, minute, seconds, second, microsecond)\n",
    "    time_var = datetime.datetime(year, month, day, hour, minute, second, microsecond)\n",
    "    \n",
    "    epoch = datetime.datetime.utcfromtimestamp(0)\n",
    "    utc_time = (time_var - epoch).total_seconds()\n",
    "    return utc_time\n",
    "\n",
    "def LoadFlightLog(filename):\n",
    "    #Load the data as a pandas dataframe\n",
    "    df = pd.read_csv('DJIFlightRecord_2019-12-17_[15-43-22]-TxtLogToCsv.csv', sep=',', error_bad_lines=False, index_col=False, dtype='unicode')\n",
    "\n",
    "    # remove the unnecessary columns from the dataframe\n",
    "    header_list = list(df[:0])\n",
    "    required_columns = ['CUSTOM.updateTime', 'OSD.flyTime [s]',  'OSD.latitude', 'OSD.longitude', 'OSD.height [m]', 'OSD.groundOrSky']\n",
    "    for header in header_list:\n",
    "        if(not(header in required_columns)):\n",
    "            del df[header]\n",
    "\n",
    "    # Add a UTC timestamp to the dataframe\n",
    "    UTC_list = []\n",
    "    for DJI_stamp in list(df['CUSTOM.updateTime']):\n",
    "        #print(DJI_stamp)\n",
    "        UTC_seconds = DJI_to_UTC(DJI_stamp)\n",
    "        UTC_list.append(UTC_seconds)\n",
    "\n",
    "    df['UTC_Seconds'] = UTC_list\n",
    "\n",
    "    #overwrite the datatypes of dataframe\n",
    "    data_types = df.astype({\n",
    "                'CUSTOM.updateTime': 'string',\n",
    "                'OSD.latitude': 'float64',\n",
    "                'OSD.longitude': 'float64',\n",
    "                'OSD.height [m]': 'float64',\n",
    "                'OSD.groundOrSky': 'string',\n",
    "                'OSD.flyTime [s]': 'float64',\n",
    "                'UTC_Seconds': 'float64'\n",
    "                }).dtypes\n",
    "\n",
    "    df = df.astype(data_types)\n",
    "    return df\n",
    "'''\n",
    "def GetDroneStatus(df, UTC):\n",
    "    drone_status = df[df['UTC_Seconds'] <= UTC].iloc[-1]\n",
    "    lat = drone_status['OSD.latitude']\n",
    "    lon = drone_status['OSD.longitude']\n",
    "    height = drone_status['OSD.height [m]']\n",
    "    groundOrSky = drone_status['OSD.groundOrSky']\n",
    "    Flytime = drone_status['OSD.flyTime [s]']\n",
    "    Timestamp = drone_status['UTC_Seconds']\n",
    "    return Timestamp, Flytime, lat, lon, height, groundOrSky\n",
    "\n",
    "def GetStartUTC(df):\n",
    "    return df.iloc[0]['UTC_Seconds']\n",
    "\n",
    "def GetEndUTC(df):\n",
    "    return df.iloc[-1]['UTC_Seconds']\n",
    "'''\n",
    "\n",
    "def GetDroneStatus(df, UTC):\n",
    "    print(\">>>>>>>> UTC:\", UTC)\n",
    "    drone_status = df[df['timestamp'] <= UTC].iloc[-1]\n",
    "    lat = drone_status['latitude']\n",
    "    lon = drone_status['longitude']\n",
    "    height = drone_status['altitude(m)']\n",
    "    groundOrSky = drone_status['isflying']\n",
    "    Flytime = drone_status['time(millisecond)']\n",
    "    Timestamp = drone_status['timestamp']\n",
    "    return Timestamp, Flytime, lat, lon, height, groundOrSky\n",
    "\n",
    "def LoadLitchiFlightLog(filename):\n",
    "    #Load the data as a pandas dataframe\n",
    "    df = pd.read_csv('2021-08-11_19-42-59_v2.csv', sep=',', error_bad_lines=False, index_col=False, dtype='unicode')\n",
    "\n",
    "    # remove the unnecessary columns from the dataframe\n",
    "    header_list = list(df[:0])\n",
    "    required_columns = ['timestamp', 'time(millisecond)',  'latitude', 'longitude', 'altitude(m)', 'isflying']\n",
    "    for header in header_list:\n",
    "        if(not(header in required_columns)):\n",
    "            del df[header]\n",
    "\n",
    "    #overwrite the datatypes of dataframe\n",
    "    data_types = df.astype({\n",
    "                'timestamp': 'float64',\n",
    "                'time(millisecond)': 'float64',\n",
    "                'latitude': 'float64',\n",
    "                'longitude': 'float64',\n",
    "                'altitude(m)': 'float64',\n",
    "                'isflying': 'int',\n",
    "                }).dtypes\n",
    "    df = df.astype(data_types)\n",
    "\n",
    "    #print(df.head())\n",
    "\n",
    "    return df\n",
    "\n",
    "\n"
   ]
  },
  {
   "cell_type": "code",
   "execution_count": 6,
   "metadata": {},
   "outputs": [
    {
     "name": "stdout",
     "output_type": "stream",
     "text": [
      "   latitude  longitude  altitude(m)  time(millisecond)  isflying  \\\n",
      "0 51.999707  -0.454945     0.500000           0.000000         1   \n",
      "1 51.999707  -0.454945     0.700000          89.000000         1   \n",
      "2 51.999707  -0.454945     0.700000          97.000000         1   \n",
      "3 51.999707  -0.454944     1.000000         200.000000         1   \n",
      "4 51.999707  -0.454944     1.000000         207.000000         1   \n",
      "\n",
      "             timestamp  \n",
      "0 1628707379122.000000  \n",
      "1 1628707379211.000000  \n",
      "2 1628707379219.000000  \n",
      "3 1628707379322.000000  \n",
      "4 1628707379329.000000  \n"
     ]
    }
   ],
   "source": [
    "filename = '2021-08-11_19-42-59_v2.csv'\n",
    "data = LoadLitchiFlightLog(filename) # returns a pandas dataframe\n",
    "\n",
    "#filename = 'DJIFlightRecord_2019-12-17_[15-43-22]-TxtLogToCsv.csv'\n",
    "#data = LoadFlightLog(filename)\n",
    "pd.options.display.float_format = '{:.6f}'.format\n",
    "print(data.head())"
   ]
  },
  {
   "cell_type": "code",
   "execution_count": 4,
   "metadata": {},
   "outputs": [
    {
     "name": "stdout",
     "output_type": "stream",
     "text": [
      ">>>>>>>> UTC: 1628707379123.101\n"
     ]
    },
    {
     "data": {
      "text/plain": [
       "(1628707379122.0, 0.0, 51.999707, -0.454945, 0.5, 1.0)"
      ]
     },
     "execution_count": 4,
     "metadata": {},
     "output_type": "execute_result"
    }
   ],
   "source": [
    "current_UTC = 1628707379329.000000\n",
    "current_UTC = 1628707379123.101\n",
    "GetDroneStatus(df = data, UTC = current_UTC)"
   ]
  },
  {
   "cell_type": "code",
   "execution_count": 5,
   "metadata": {},
   "outputs": [
    {
     "ename": "NameError",
     "evalue": "name 'GetStartUTC' is not defined",
     "output_type": "error",
     "traceback": [
      "\u001b[0;31m---------------------------------------------------------------------------\u001b[0m",
      "\u001b[0;31mNameError\u001b[0m                                 Traceback (most recent call last)",
      "\u001b[0;32m<ipython-input-5-7808aa604abe>\u001b[0m in \u001b[0;36m<module>\u001b[0;34m\u001b[0m\n\u001b[0;32m----> 1\u001b[0;31m \u001b[0mstart\u001b[0m \u001b[0;34m=\u001b[0m \u001b[0mGetStartUTC\u001b[0m\u001b[0;34m(\u001b[0m\u001b[0mdata\u001b[0m\u001b[0;34m)\u001b[0m\u001b[0;34m\u001b[0m\u001b[0;34m\u001b[0m\u001b[0m\n\u001b[0m\u001b[1;32m      2\u001b[0m \u001b[0mend\u001b[0m \u001b[0;34m=\u001b[0m \u001b[0mGetEndUTC\u001b[0m\u001b[0;34m(\u001b[0m\u001b[0mdata\u001b[0m\u001b[0;34m)\u001b[0m\u001b[0;34m\u001b[0m\u001b[0;34m\u001b[0m\u001b[0m\n\u001b[1;32m      3\u001b[0m \u001b[0mprint\u001b[0m\u001b[0;34m(\u001b[0m\u001b[0;34m\"Start UTC [s]:\"\u001b[0m\u001b[0;34m,\u001b[0m \u001b[0mstart\u001b[0m\u001b[0;34m)\u001b[0m\u001b[0;34m\u001b[0m\u001b[0;34m\u001b[0m\u001b[0m\n\u001b[1;32m      4\u001b[0m \u001b[0mprint\u001b[0m\u001b[0;34m(\u001b[0m\u001b[0;34m\"END UTC [s]:\"\u001b[0m\u001b[0;34m,\u001b[0m \u001b[0mend\u001b[0m\u001b[0;34m)\u001b[0m\u001b[0;34m\u001b[0m\u001b[0;34m\u001b[0m\u001b[0m\n\u001b[1;32m      5\u001b[0m \u001b[0mprint\u001b[0m\u001b[0;34m(\u001b[0m\u001b[0;34m\"Duration [s]:\"\u001b[0m\u001b[0;34m,\u001b[0m \u001b[0mend\u001b[0m\u001b[0;34m-\u001b[0m\u001b[0mstart\u001b[0m\u001b[0;34m)\u001b[0m\u001b[0;34m\u001b[0m\u001b[0;34m\u001b[0m\u001b[0m\n",
      "\u001b[0;31mNameError\u001b[0m: name 'GetStartUTC' is not defined"
     ]
    }
   ],
   "source": [
    "start = GetStartUTC(data)\n",
    "end = GetEndUTC(data)\n",
    "print(\"Start UTC [s]:\", start)\n",
    "print(\"END UTC [s]:\", end)\n",
    "print(\"Duration [s]:\", end-start)"
   ]
  },
  {
   "cell_type": "code",
   "execution_count": null,
   "metadata": {},
   "outputs": [],
   "source": [
    "data.shape"
   ]
  },
  {
   "cell_type": "code",
   "execution_count": null,
   "metadata": {},
   "outputs": [],
   "source": []
  },
  {
   "cell_type": "code",
   "execution_count": null,
   "metadata": {},
   "outputs": [],
   "source": []
  },
  {
   "cell_type": "code",
   "execution_count": null,
   "metadata": {},
   "outputs": [],
   "source": []
  }
 ],
 "metadata": {
  "kernelspec": {
   "display_name": "Python 3",
   "language": "python",
   "name": "python3"
  },
  "language_info": {
   "codemirror_mode": {
    "name": "ipython",
    "version": 3
   },
   "file_extension": ".py",
   "mimetype": "text/x-python",
   "name": "python",
   "nbconvert_exporter": "python",
   "pygments_lexer": "ipython3",
   "version": "3.6.9"
  }
 },
 "nbformat": 4,
 "nbformat_minor": 4
}
