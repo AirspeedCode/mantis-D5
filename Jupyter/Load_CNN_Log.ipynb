{
 "cells": [
  {
   "cell_type": "code",
   "execution_count": 1,
   "id": "b4286772",
   "metadata": {},
   "outputs": [],
   "source": [
    "import pandas as pd"
   ]
  },
  {
   "cell_type": "code",
   "execution_count": 2,
   "id": "0111e284",
   "metadata": {},
   "outputs": [],
   "source": [
    "def LoadCNNLog(fname):\n",
    "    #Load the data as a pandas dataframe\n",
    "    df = pd.read_csv(fname, sep=',', error_bad_lines=False, index_col=False, dtype='unicode')\n",
    "\n",
    "    #overwrite the datatypes of dataframe\n",
    "    data_types = df.astype({\n",
    "                'UTC (ms)': 'float64',\n",
    "                'CNN Confidence': 'float64',\n",
    "                'CNN Bearing': 'float64',\n",
    "                'Confidence (Filtered)': 'float64',\n",
    "                'Bearing (Filtered)': 'float64',\n",
    "                'Drone Detected': 'float64',\n",
    "                }).dtypes\n",
    "\n",
    "    df = df.astype(data_types)\n",
    "    return df\n",
    "\n",
    "def GetCNNStatus(df, UTC):\n",
    "    #print(\">>>>>>>> UTC:\", UTC)\n",
    "    drone_status = df[df['UTC (ms)'] <= UTC].iloc[-1]\n",
    "    TIME = drone_status['UTC (ms)']\n",
    "    BRG = drone_status['Bearing (Filtered)']\n",
    "    CONF = drone_status['Confidence (Filtered)']\n",
    "    ISDRONE = drone_status['Drone Detected']\n",
    "    return TIME, BRG, CONF, ISDRONE\n",
    "\n",
    "def GetCNNLogStartUTC(df):\n",
    "    startUTC = df.iloc[0]['UTC (ms)']\n",
    "    print(\">>>>>>>> CNN LOG START UTC:\", startUTC)\n",
    "    return startUTC\n",
    "\n",
    "\n",
    "def GetCNNLogEndUTC(df):\n",
    "    endUTC = df.iloc[-1]['UTC (ms)']\n",
    "    print(\">>>>>>>> CNN LOG END UTC:\", endUTC)\n",
    "    return endUTC\n",
    "    "
   ]
  },
  {
   "cell_type": "code",
   "execution_count": 3,
   "id": "70effd85",
   "metadata": {},
   "outputs": [
    {
     "data": {
      "text/html": [
       "<div>\n",
       "<style scoped>\n",
       "    .dataframe tbody tr th:only-of-type {\n",
       "        vertical-align: middle;\n",
       "    }\n",
       "\n",
       "    .dataframe tbody tr th {\n",
       "        vertical-align: top;\n",
       "    }\n",
       "\n",
       "    .dataframe thead th {\n",
       "        text-align: right;\n",
       "    }\n",
       "</style>\n",
       "<table border=\"1\" class=\"dataframe\">\n",
       "  <thead>\n",
       "    <tr style=\"text-align: right;\">\n",
       "      <th></th>\n",
       "      <th>UTC (ms)</th>\n",
       "      <th>CNN Confidence</th>\n",
       "      <th>CNN Bearing</th>\n",
       "      <th>Confidence (Filtered)</th>\n",
       "      <th>Bearing (Filtered)</th>\n",
       "      <th>Drone Detected</th>\n",
       "    </tr>\n",
       "  </thead>\n",
       "  <tbody>\n",
       "    <tr>\n",
       "      <th>0</th>\n",
       "      <td>1.628707e+12</td>\n",
       "      <td>0.275380</td>\n",
       "      <td>354.0</td>\n",
       "      <td>0.275380</td>\n",
       "      <td>45.0</td>\n",
       "      <td>1.0</td>\n",
       "    </tr>\n",
       "    <tr>\n",
       "      <th>1</th>\n",
       "      <td>1.628707e+12</td>\n",
       "      <td>0.451022</td>\n",
       "      <td>342.0</td>\n",
       "      <td>0.363201</td>\n",
       "      <td>45.0</td>\n",
       "      <td>1.0</td>\n",
       "    </tr>\n",
       "    <tr>\n",
       "      <th>2</th>\n",
       "      <td>1.628707e+12</td>\n",
       "      <td>0.585129</td>\n",
       "      <td>335.0</td>\n",
       "      <td>0.437177</td>\n",
       "      <td>45.0</td>\n",
       "      <td>1.0</td>\n",
       "    </tr>\n",
       "    <tr>\n",
       "      <th>3</th>\n",
       "      <td>1.628707e+12</td>\n",
       "      <td>0.135326</td>\n",
       "      <td>339.0</td>\n",
       "      <td>0.361714</td>\n",
       "      <td>45.0</td>\n",
       "      <td>1.0</td>\n",
       "    </tr>\n",
       "    <tr>\n",
       "      <th>4</th>\n",
       "      <td>1.628707e+12</td>\n",
       "      <td>0.277519</td>\n",
       "      <td>340.0</td>\n",
       "      <td>0.344875</td>\n",
       "      <td>45.0</td>\n",
       "      <td>1.0</td>\n",
       "    </tr>\n",
       "  </tbody>\n",
       "</table>\n",
       "</div>"
      ],
      "text/plain": [
       "       UTC (ms)  CNN Confidence  CNN Bearing  Confidence (Filtered)  \\\n",
       "0  1.628707e+12        0.275380        354.0               0.275380   \n",
       "1  1.628707e+12        0.451022        342.0               0.363201   \n",
       "2  1.628707e+12        0.585129        335.0               0.437177   \n",
       "3  1.628707e+12        0.135326        339.0               0.361714   \n",
       "4  1.628707e+12        0.277519        340.0               0.344875   \n",
       "\n",
       "   Bearing (Filtered)  Drone Detected  \n",
       "0                45.0             1.0  \n",
       "1                45.0             1.0  \n",
       "2                45.0             1.0  \n",
       "3                45.0             1.0  \n",
       "4                45.0             1.0  "
      ]
     },
     "execution_count": 3,
     "metadata": {},
     "output_type": "execute_result"
    }
   ],
   "source": [
    "fname = '1628707327839_prediction_log.csv'\n",
    "df = LoadCNNLog(fname)\n",
    "df.head()"
   ]
  },
  {
   "cell_type": "code",
   "execution_count": 4,
   "id": "82baa84a",
   "metadata": {},
   "outputs": [
    {
     "data": {
      "text/plain": [
       "(1628707329606.0, 45.0, 0.4371768633524577, 1.0)"
      ]
     },
     "execution_count": 4,
     "metadata": {},
     "output_type": "execute_result"
    }
   ],
   "source": [
    "GetCNNStatus(df, 1628707329607)"
   ]
  },
  {
   "cell_type": "code",
   "execution_count": 5,
   "id": "ec2c3bd2",
   "metadata": {},
   "outputs": [
    {
     "name": "stdout",
     "output_type": "stream",
     "text": [
      ">>>>>>>> CNN LOG START UTC: 1628707328951.0\n",
      ">>>>>>>> CNN LOG END UTC: 1628708226030.0\n"
     ]
    },
    {
     "data": {
      "text/plain": [
       "1628708226030.0"
      ]
     },
     "execution_count": 5,
     "metadata": {},
     "output_type": "execute_result"
    }
   ],
   "source": [
    "GetCNNLogStartUTC(df)\n",
    "GetCNNLogEndUTC(df)"
   ]
  },
  {
   "cell_type": "code",
   "execution_count": null,
   "id": "47649eb0",
   "metadata": {},
   "outputs": [],
   "source": []
  },
  {
   "cell_type": "code",
   "execution_count": null,
   "id": "86eabd0f",
   "metadata": {},
   "outputs": [],
   "source": []
  },
  {
   "cell_type": "code",
   "execution_count": null,
   "id": "073c0075",
   "metadata": {},
   "outputs": [],
   "source": []
  }
 ],
 "metadata": {
  "kernelspec": {
   "display_name": "Python 3",
   "language": "python",
   "name": "python3"
  },
  "language_info": {
   "codemirror_mode": {
    "name": "ipython",
    "version": 3
   },
   "file_extension": ".py",
   "mimetype": "text/x-python",
   "name": "python",
   "nbconvert_exporter": "python",
   "pygments_lexer": "ipython3",
   "version": "3.6.9"
  }
 },
 "nbformat": 4,
 "nbformat_minor": 5
}
